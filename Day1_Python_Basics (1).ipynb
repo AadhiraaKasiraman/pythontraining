{
  "nbformat": 4,
  "nbformat_minor": 0,
  "metadata": {
    "colab": {
      "provenance": []
    },
    "kernelspec": {
      "name": "python3",
      "display_name": "Python 3"
    },
    "language_info": {
      "name": "python"
    }
  },
  "cells": [
    {
      "cell_type": "code",
      "execution_count": null,
      "metadata": {
        "id": "lajyy_F508A7"
      },
      "outputs": [],
      "source": [
        "a = 10\n",
        "print(a)\n",
        "print(\"a=\",id(a))\n",
        "\n",
        "b=10\n",
        "print(b)\n",
        "print(\"b=\",id(b))\n",
        "\n",
        "c=a\n",
        "print(c)\n",
        "print(\"c=\",id(c))"
      ]
    },
    {
      "cell_type": "code",
      "source": [
        "# dynamic programming\n",
        "\n",
        "a=10\n",
        "print(a)\n",
        "print(id(a))\n",
        "\n",
        "a = 3.14\n",
        "print(a)\n",
        "print(id(a))\n",
        "\n",
        "a =\"NTT\"\n",
        "print(a)\n",
        "print(id(a))"
      ],
      "metadata": {
        "id": "-i-0aiML1_Jc"
      },
      "execution_count": null,
      "outputs": []
    },
    {
      "cell_type": "code",
      "source": [
        "# deleting a variable\n",
        "\n",
        "a = 20\n",
        "print(a)\n",
        "del a\n",
        "print(a)"
      ],
      "metadata": {
        "id": "cdS8o4-f1_XP"
      },
      "execution_count": null,
      "outputs": []
    },
    {
      "cell_type": "code",
      "source": [
        "# creating multiple variables\n",
        "\n",
        "a,b,c = 10 , 3.14 , \"NTT\"\n",
        "print(a,b,c)"
      ],
      "metadata": {
        "colab": {
          "base_uri": "https://localhost:8080/"
        },
        "id": "-Tcxwt2z1_hN",
        "outputId": "2454678a-f9c3-499e-f5de-5d8dff16c5d8"
      },
      "execution_count": null,
      "outputs": [
        {
          "output_type": "stream",
          "name": "stdout",
          "text": [
            "10 3.14 NTT\n"
          ]
        }
      ]
    },
    {
      "cell_type": "code",
      "source": [
        "#assign single values to multiple variables\n",
        "\n",
        "a=b=c=100\n",
        "print(a,b,c)"
      ],
      "metadata": {
        "colab": {
          "base_uri": "https://localhost:8080/"
        },
        "id": "fBZtkyj40zCp",
        "outputId": "dcf7ae02-254e-4dcd-97af-50946f2da71a"
      },
      "execution_count": null,
      "outputs": [
        {
          "output_type": "stream",
          "name": "stdout",
          "text": [
            "100 100 100\n"
          ]
        }
      ]
    },
    {
      "cell_type": "code",
      "source": [
        "# variable annonation\n",
        "a: int = 10\n",
        "print(a)\n",
        "\n",
        "print(__annotations__['a'])\n",
        "\n",
        "b: float = 31.3\n",
        "print(b)\n",
        "\n",
        "print(__annotations__['b'])\n",
        "\n",
        "c: str = \"NTT\"\n",
        "print(c)\n",
        "\n",
        "print(__annotations__['c'])\n",
        "\n",
        "a = \"Blr\"\n",
        "\n",
        "print(a)\n"
      ],
      "metadata": {
        "colab": {
          "base_uri": "https://localhost:8080/"
        },
        "id": "WlomgxER1_qa",
        "outputId": "c887b0ec-a9a9-42a1-92c8-b62b5c0ecfaf"
      },
      "execution_count": null,
      "outputs": [
        {
          "output_type": "stream",
          "name": "stdout",
          "text": [
            "10\n",
            "<class 'int'>\n",
            "31.3\n",
            "<class 'float'>\n",
            "NTT\n",
            "<class 'str'>\n",
            "Blr\n"
          ]
        }
      ]
    },
    {
      "cell_type": "code",
      "source": [
        "import keyword\n",
        "\n",
        "print(keyword.kwlist)\n",
        "print(len(keyword.kwlist))\n"
      ],
      "metadata": {
        "colab": {
          "base_uri": "https://localhost:8080/"
        },
        "id": "GcTCfY_L3HN0",
        "outputId": "954476a5-87d4-4be3-ff2e-c444597497b1"
      },
      "execution_count": null,
      "outputs": [
        {
          "output_type": "stream",
          "name": "stdout",
          "text": [
            "['False', 'None', 'True', 'and', 'as', 'assert', 'async', 'await', 'break', 'class', 'continue', 'def', 'del', 'elif', 'else', 'except', 'finally', 'for', 'from', 'global', 'if', 'import', 'in', 'is', 'lambda', 'nonlocal', 'not', 'or', 'pass', 'raise', 'return', 'try', 'while', 'with', 'yield']\n",
            "35\n"
          ]
        }
      ]
    },
    {
      "cell_type": "code",
      "source": [
        "# this section is for commentingqqqqqqqqqqqqqqqqqqqqqqqqqqqqqqqqqqqqqqqqqqqqqqqqqqqqqqqqqqqqqqqqqqqqqqqqqqqqqqqqqqqqqqq\n",
        "#ddddddddddddddddddddddd\n",
        "#ddddddddddddddddddddd"
      ],
      "metadata": {
        "id": "rKKN5Zvc3xpj"
      },
      "execution_count": null,
      "outputs": []
    },
    {
      "cell_type": "code",
      "source": [
        "# multiline comments\n",
        "\n",
        "\"\"\" efdasdfasdf\n",
        "asdfasdfasdf\n",
        "asdfasdfasdf\n",
        "asdfasfasdfasdfasdfasfd \"\"\"\n",
        "\n",
        "print(\"multiline comment\")"
      ],
      "metadata": {
        "colab": {
          "base_uri": "https://localhost:8080/"
        },
        "id": "wA6IfXeU3_9Y",
        "outputId": "b72d902c-898c-4159-8fae-7639c76e4714"
      },
      "execution_count": null,
      "outputs": [
        {
          "output_type": "stream",
          "name": "stdout",
          "text": [
            "multiline comment\n"
          ]
        }
      ]
    },
    {
      "cell_type": "code",
      "source": [
        "# string\n",
        "\n",
        "s= \"code yug\"\n",
        "\n",
        "print(s[0:3:1])\n",
        "print(s[2:4])"
      ],
      "metadata": {
        "colab": {
          "base_uri": "https://localhost:8080/"
        },
        "id": "oHmrYbaLDSZp",
        "outputId": "77732e31-8673-4b42-8fd1-527d650d5989"
      },
      "execution_count": null,
      "outputs": [
        {
          "output_type": "stream",
          "name": "stdout",
          "text": [
            "cod\n",
            "de\n"
          ]
        }
      ]
    },
    {
      "cell_type": "code",
      "source": [
        "# slicing\n",
        "\n",
        "s = \"bangalore\"\n",
        "\n",
        "print(s[::])"
      ],
      "metadata": {
        "colab": {
          "base_uri": "https://localhost:8080/"
        },
        "id": "5L7WSZC22Yo5",
        "outputId": "b98175f1-36e5-4f6d-b3d6-72048f96bfd7"
      },
      "execution_count": null,
      "outputs": [
        {
          "output_type": "stream",
          "name": "stdout",
          "text": [
            "bangalore\n"
          ]
        }
      ]
    },
    {
      "cell_type": "code",
      "source": [
        "# negative slicing\n",
        "\n",
        "s = \"bangalore\"\n",
        "\n",
        "print(s[-1:-4:-1])\n",
        "print(s[-1:-8:-2])\n",
        "print(s[-2:-6:2])\n",
        "\n",
        "print(s[-1: :-1])"
      ],
      "metadata": {
        "colab": {
          "base_uri": "https://localhost:8080/"
        },
        "id": "rusYStc-JroV",
        "outputId": "d8ef07fc-17f8-4f2b-ab01-83d727b2b922"
      },
      "execution_count": null,
      "outputs": [
        {
          "output_type": "stream",
          "name": "stdout",
          "text": [
            "ero\n",
            "eoan\n",
            "\n",
            "erolagnab\n"
          ]
        }
      ]
    },
    {
      "cell_type": "code",
      "source": [
        "#global variable\n",
        "\n",
        "n=10\n",
        "\n",
        "def fun():\n",
        "  global n\n",
        "  n=n+1\n",
        "  print(n)\n",
        "\n",
        "def test():\n",
        "  global n\n",
        "  n=n+1\n",
        "  print(n)\n",
        "\n",
        "fun()\n",
        "test()\n",
        "print(n)"
      ],
      "metadata": {
        "colab": {
          "base_uri": "https://localhost:8080/"
        },
        "id": "q33V_lj6G1fP",
        "outputId": "5a4a5d78-ac59-420a-abcc-69d870c79379"
      },
      "execution_count": 1,
      "outputs": [
        {
          "output_type": "stream",
          "name": "stdout",
          "text": [
            "11\n",
            "12\n",
            "12\n"
          ]
        }
      ]
    },
    {
      "cell_type": "code",
      "source": [
        "def multiplier_factory(factor):\n",
        "\n",
        "  def multiplier(number):\n",
        "\n",
        "    return number * factor\n",
        "\n",
        "  # Return the nested function\n",
        "  return multiplier  # returning the inner function\n",
        "\n",
        "# Create a function that multiplies by 5\n",
        "multiply_by_5 = multiplier_factory(5)\n",
        "\n",
        "# Create a function that multiplies by 10\n",
        "multiply_by_10 = multiplier_factory(10)\n",
        "\n",
        "# Use the created functions\n",
        "result1 = multiply_by_5(8)\n",
        "result2 = multiply_by_10(4)\n",
        "\n",
        "print(f\"8 multiplied by 5 is: {result1}\")  # Output: 8 multiplied by 5 is: 40\n",
        "print(f\"4 multiplied by 10 is: {result2}\") # Output: 4 multiplied by 10 is: 40"
      ],
      "metadata": {
        "colab": {
          "base_uri": "https://localhost:8080/"
        },
        "id": "TzDHBzKgKTmj",
        "outputId": "69528b1f-bf7b-4a23-fe8f-696d12cfd86f"
      },
      "execution_count": 2,
      "outputs": [
        {
          "output_type": "stream",
          "name": "stdout",
          "text": [
            "8 multiplied by 5 is: 40\n",
            "4 multiplied by 10 is: 40\n"
          ]
        }
      ]
    },
    {
      "cell_type": "code",
      "source": [
        "#default argument\n",
        "def student(name, age, m1, m2, m3,college =\"STET\"):\n",
        "  print(name, age, m1, m2, m3, college)\n",
        "\n",
        "student(\"kasi\", 35, 100, 90, 80)\n"
      ],
      "metadata": {
        "colab": {
          "base_uri": "https://localhost:8080/"
        },
        "id": "5QRLgcVIQyfM",
        "outputId": "7fe47786-626c-4147-a641-5858813ac525"
      },
      "execution_count": 5,
      "outputs": [
        {
          "output_type": "stream",
          "name": "stdout",
          "text": [
            "kasi 35 100 90 80 STET\n"
          ]
        }
      ]
    },
    {
      "cell_type": "code",
      "source": [
        "#variable length argument\n",
        "def fun(*a):\n",
        "  print(a)\n",
        "  print(type(a))\n",
        "\n",
        "fun(1,2)\n",
        "fun(1,2,3)\n",
        "fun(1,2,3,4)"
      ],
      "metadata": {
        "colab": {
          "base_uri": "https://localhost:8080/"
        },
        "id": "ZIWyK_CyTpJ6",
        "outputId": "9e4534dd-0c3d-4778-d082-a6d543a1332d"
      },
      "execution_count": 7,
      "outputs": [
        {
          "output_type": "stream",
          "name": "stdout",
          "text": [
            "(1, 2)\n",
            "<class 'tuple'>\n",
            "(1, 2, 3)\n",
            "<class 'tuple'>\n",
            "(1, 2, 3, 4)\n",
            "<class 'tuple'>\n"
          ]
        }
      ]
    },
    {
      "cell_type": "code",
      "source": [
        "#variable length argument\n",
        "def sum(*a):\n",
        "  #print(a)\n",
        "  s=0\n",
        "  for i in a:\n",
        "    s=s+i\n",
        "  print(s)\n",
        "\n",
        "sum(1,2) # values are packed as tuple\n",
        "sum(1,2,3)\n",
        "sum(1,2,3,4)"
      ],
      "metadata": {
        "colab": {
          "base_uri": "https://localhost:8080/"
        },
        "id": "V_qUyL70UMtI",
        "outputId": "8b58e38a-48e8-48f2-8260-cfdc133e49e7"
      },
      "execution_count": 9,
      "outputs": [
        {
          "output_type": "stream",
          "name": "stdout",
          "text": [
            "3\n",
            "6\n",
            "10\n"
          ]
        }
      ]
    }
  ]
}