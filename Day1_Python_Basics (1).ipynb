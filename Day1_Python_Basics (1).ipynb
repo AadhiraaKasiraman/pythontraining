{
  "nbformat": 4,
  "nbformat_minor": 0,
  "metadata": {
    "colab": {
      "provenance": []
    },
    "kernelspec": {
      "name": "python3",
      "display_name": "Python 3"
    },
    "language_info": {
      "name": "python"
    }
  },
  "cells": [
    {
      "cell_type": "code",
      "execution_count": null,
      "metadata": {
        "id": "lajyy_F508A7"
      },
      "outputs": [],
      "source": [
        "a = 10\n",
        "print(a)\n",
        "print(\"a=\",id(a))\n",
        "\n",
        "b=10\n",
        "print(b)\n",
        "print(\"b=\",id(b))\n",
        "\n",
        "c=a\n",
        "print(c)\n",
        "print(\"c=\",id(c))"
      ]
    },
    {
      "cell_type": "code",
      "source": [
        "#Bank project\n",
        "\n",
        "class Bank:\n",
        "  bankname= \"Indian bank\"\n",
        "  branch = \"Bellandur , Blr\"\n",
        "\n",
        "  #create account\n",
        "  def __init__(self , username , pan, address):\n",
        "    self.username = username\n",
        "    self.pan = pan\n",
        "    self.address = address\n",
        "    self.balance = 0\n",
        "    print(\"account created succesfully\")\n",
        "\n",
        "  def withdraw(self, amt):\n",
        "    if amt< self.balance:\n",
        "      self.balance = self.balance - amt\n",
        "      print(\"remaining balance is \", self.balance)\n",
        "    else:\n",
        "      print(\"insufficient balance\")\n",
        "\n",
        "  def deposit(self, amt):\n",
        "    self.balance = self.balance + amt\n",
        "    print(\"amount deposited successfully\")\n",
        "\n",
        "  def balance_check(self):\n",
        "    print(\"your balance is \", self.balance)\n",
        "\n",
        "\n",
        "# collect user data for account creation\n",
        "\n",
        "\n",
        "username = input(\"enter your name\")\n",
        "pan= input(\"enter ur pan no\")\n",
        "address = input(\"enter ur address\")\n",
        "\n",
        "b = Bank(username, pan, address)\n",
        "\n",
        "\n",
        "while True:\n",
        "   print(\"1. Deposit , 2.withdraw 3.balacecheck 4.quit\")\n",
        "   option = int(input(\"enter ur option\"))\n",
        "\n",
        "   if option ==1:\n",
        "    amt = int(input(\"enter the amount to deposit\"))\n",
        "    b.deposit(amt)\n",
        "\n",
        "   elif option == 2:\n",
        "    amt = int(input(\"enter the amount to withdraw\"))\n",
        "    b.withdraw(amt)\n",
        "\n",
        "   elif option == 3:\n",
        "    b.balance_check()\n",
        "\n",
        "   elif option == 4:\n",
        "    break\n",
        "\n",
        "   else:\n",
        "    print(\"invalid option\")\n",
        ""
      ],
      "metadata": {
        "id": "oQg67se67lFj",
        "outputId": "6ecee199-e715-4750-a689-bc3df1e83b94",
        "colab": {
          "base_uri": "https://localhost:8080/"
        }
      },
      "execution_count": 1,
      "outputs": [
        {
          "name": "stdout",
          "output_type": "stream",
          "text": [
            "enter your nameKasi\n",
            "enter ur pan noBhypk5995E\n",
            "enter ur address3/1 South Street\n",
            "account created succesfully\n",
            "1. Deposit , 2.withdraw 3.balacecheck 4.quit\n",
            "enter ur option3\n",
            "your balance is  0\n",
            "1. Deposit , 2.withdraw 3.balacecheck 4.quit\n",
            "enter ur option1\n",
            "enter the amount to deposit10000\n",
            "amount deposited successfully\n",
            "1. Deposit , 2.withdraw 3.balacecheck 4.quit\n",
            "enter ur option2\n",
            "enter the amount to withdraw11000\n",
            "insufficient balance\n",
            "1. Deposit , 2.withdraw 3.balacecheck 4.quit\n",
            "enter ur option2\n",
            "enter the amount to withdraw3000\n",
            "remaining balance is  7000\n",
            "1. Deposit , 2.withdraw 3.balacecheck 4.quit\n",
            "enter ur option1\n",
            "enter the amount to deposit10000\n",
            "amount deposited successfully\n",
            "1. Deposit , 2.withdraw 3.balacecheck 4.quit\n",
            "enter ur option3\n",
            "your balance is  17000\n",
            "1. Deposit , 2.withdraw 3.balacecheck 4.quit\n",
            "enter ur option4\n"
          ]
        }
      ]
    },
    {
      "cell_type": "code",
      "source": [
        "#USER DEFINED EXCEPTION\n",
        "\n",
        "class Invalidageerror(Exception):\n",
        "  pass\n",
        "\n",
        "try:\n",
        "  age = int(input(\"Enter your age\"))\n",
        "  if age<0:\n",
        "   raise Invalidageerror(\"Age cannot be negative\")\n",
        "  print(\"Your age is : \", age)\n",
        "\n",
        "except Invalidageerror as var:\n",
        "  print(var)"
      ],
      "metadata": {
        "id": "FpI1yf-cxRQx",
        "outputId": "06049134-6e8b-42ee-d5b7-ec9a9f7626ed",
        "colab": {
          "base_uri": "https://localhost:8080/"
        }
      },
      "execution_count": null,
      "outputs": [
        {
          "output_type": "stream",
          "name": "stdout",
          "text": [
            "Enter your age-10\n",
            "Age cannot be negative\n"
          ]
        }
      ]
    },
    {
      "cell_type": "code",
      "source": [
        "# ATM Project\n",
        "\n",
        "class BalanceException(Exception):\n",
        "  pass\n",
        "class AttemptException(Exception):\n",
        "  pass\n",
        "attempt = 1\n",
        "def withdraw():\n",
        "  global attempt\n",
        "  saved_pin=1234\n",
        "  balance = 10000\n",
        "\n",
        "  pin = int(input(\"Enter your pin\"))\n",
        "  if pin == saved_pin:\n",
        "    try:\n",
        "     amt = int(input(\"Enter the amount to Withdraw\"))\n",
        "     temp_bal = balance - amt\n",
        "     if temp_bal < 1000:\n",
        "      raise BalanceException(\"Minimum Balance should not be less than 1000\")\n",
        "      balance = balance - amt\n",
        "      print(\"remaining balance is \", balance)\n",
        "\n",
        "    except BalanceException as var:\n",
        "      print(var)\n",
        "\n",
        "  else:\n",
        "    print(\"Invalid pin\")\n",
        "    ans = input(\"Do you want to continue again Y/N\")\n",
        "    if ans == 'Y':\n",
        "      attempt = attempt + 1\n",
        "      try:\n",
        "        if attempt == 4:\n",
        "          raise AttemptException(\"Too many attempts and account blocked for 3 hours\")\n",
        "\n",
        "      except AttemptException as var:\n",
        "          print(var)\n",
        "\n",
        "      else:\n",
        "            withdraw()\n",
        "\n",
        "\n",
        "withdraw()\n"
      ],
      "metadata": {
        "id": "nbvL0A2kzTKK",
        "outputId": "3cf8e7e4-2db4-4965-ed51-8e8d2312d091",
        "colab": {
          "base_uri": "https://localhost:8080/"
        }
      },
      "execution_count": null,
      "outputs": [
        {
          "output_type": "stream",
          "name": "stdout",
          "text": [
            "Enter your pin1234\n",
            "Enter the amount to Withdraw10000\n",
            "Minimum Balance should not be less than 1000\n"
          ]
        }
      ]
    },
    {
      "cell_type": "code",
      "source": [
        "# dynamic programming\n",
        "\n",
        "a=10\n",
        "print(a)\n",
        "print(id(a))\n",
        "\n",
        "a = 3.14\n",
        "print(a)\n",
        "print(id(a))\n",
        "\n",
        "a =\"NTT\"\n",
        "print(a)\n",
        "print(id(a))"
      ],
      "metadata": {
        "id": "-i-0aiML1_Jc"
      },
      "execution_count": null,
      "outputs": []
    },
    {
      "cell_type": "code",
      "source": [
        "# deleting a variable\n",
        "\n",
        "a = 20\n",
        "print(a)\n",
        "del a\n",
        "print(a)"
      ],
      "metadata": {
        "id": "cdS8o4-f1_XP"
      },
      "execution_count": null,
      "outputs": []
    },
    {
      "cell_type": "code",
      "source": [
        "# creating multiple variables\n",
        "\n",
        "a,b,c = 10 , 3.14 , \"NTT\"\n",
        "print(a,b,c)"
      ],
      "metadata": {
        "colab": {
          "base_uri": "https://localhost:8080/"
        },
        "id": "-Tcxwt2z1_hN",
        "outputId": "2454678a-f9c3-499e-f5de-5d8dff16c5d8"
      },
      "execution_count": null,
      "outputs": [
        {
          "output_type": "stream",
          "name": "stdout",
          "text": [
            "10 3.14 NTT\n"
          ]
        }
      ]
    },
    {
      "cell_type": "code",
      "source": [
        "#assign single values to multiple variables\n",
        "\n",
        "a=b=c=100\n",
        "print(a,b,c)"
      ],
      "metadata": {
        "colab": {
          "base_uri": "https://localhost:8080/"
        },
        "id": "fBZtkyj40zCp",
        "outputId": "dcf7ae02-254e-4dcd-97af-50946f2da71a"
      },
      "execution_count": null,
      "outputs": [
        {
          "output_type": "stream",
          "name": "stdout",
          "text": [
            "100 100 100\n"
          ]
        }
      ]
    },
    {
      "cell_type": "code",
      "source": [
        "# variable annonation\n",
        "a: int = 10\n",
        "print(a)\n",
        "\n",
        "print(__annotations__['a'])\n",
        "\n",
        "b: float = 31.3\n",
        "print(b)\n",
        "\n",
        "print(__annotations__['b'])\n",
        "\n",
        "c: str = \"NTT\"\n",
        "print(c)\n",
        "\n",
        "print(__annotations__['c'])\n",
        "\n",
        "a = \"Blr\"\n",
        "\n",
        "print(a)\n"
      ],
      "metadata": {
        "colab": {
          "base_uri": "https://localhost:8080/"
        },
        "id": "WlomgxER1_qa",
        "outputId": "c887b0ec-a9a9-42a1-92c8-b62b5c0ecfaf"
      },
      "execution_count": null,
      "outputs": [
        {
          "output_type": "stream",
          "name": "stdout",
          "text": [
            "10\n",
            "<class 'int'>\n",
            "31.3\n",
            "<class 'float'>\n",
            "NTT\n",
            "<class 'str'>\n",
            "Blr\n"
          ]
        }
      ]
    },
    {
      "cell_type": "code",
      "source": [
        "import keyword\n",
        "\n",
        "print(keyword.kwlist)\n",
        "print(len(keyword.kwlist))\n"
      ],
      "metadata": {
        "colab": {
          "base_uri": "https://localhost:8080/"
        },
        "id": "GcTCfY_L3HN0",
        "outputId": "954476a5-87d4-4be3-ff2e-c444597497b1"
      },
      "execution_count": null,
      "outputs": [
        {
          "output_type": "stream",
          "name": "stdout",
          "text": [
            "['False', 'None', 'True', 'and', 'as', 'assert', 'async', 'await', 'break', 'class', 'continue', 'def', 'del', 'elif', 'else', 'except', 'finally', 'for', 'from', 'global', 'if', 'import', 'in', 'is', 'lambda', 'nonlocal', 'not', 'or', 'pass', 'raise', 'return', 'try', 'while', 'with', 'yield']\n",
            "35\n"
          ]
        }
      ]
    },
    {
      "cell_type": "code",
      "source": [
        "# this section is for commentingqqqqqqqqqqqqqqqqqqqqqqqqqqqqqqqqqqqqqqqqqqqqqqqqqqqqqqqqqqqqqqqqqqqqqqqqqqqqqqqqqqqqqqq\n",
        "#ddddddddddddddddddddddd\n",
        "#ddddddddddddddddddddd"
      ],
      "metadata": {
        "id": "rKKN5Zvc3xpj"
      },
      "execution_count": null,
      "outputs": []
    },
    {
      "cell_type": "code",
      "source": [
        "# multiline comments\n",
        "\n",
        "\"\"\" efdasdfasdf\n",
        "asdfasdfasdf\n",
        "asdfasdfasdf\n",
        "asdfasfasdfasdfasdfasfd \"\"\"\n",
        "\n",
        "print(\"multiline comment\")"
      ],
      "metadata": {
        "colab": {
          "base_uri": "https://localhost:8080/"
        },
        "id": "wA6IfXeU3_9Y",
        "outputId": "b72d902c-898c-4159-8fae-7639c76e4714"
      },
      "execution_count": null,
      "outputs": [
        {
          "output_type": "stream",
          "name": "stdout",
          "text": [
            "multiline comment\n"
          ]
        }
      ]
    },
    {
      "cell_type": "code",
      "source": [
        "# string\n",
        "\n",
        "s= \"code yug\"\n",
        "\n",
        "print(s[0:3:1])\n",
        "print(s[2:4])"
      ],
      "metadata": {
        "colab": {
          "base_uri": "https://localhost:8080/"
        },
        "id": "oHmrYbaLDSZp",
        "outputId": "77732e31-8673-4b42-8fd1-527d650d5989"
      },
      "execution_count": null,
      "outputs": [
        {
          "output_type": "stream",
          "name": "stdout",
          "text": [
            "cod\n",
            "de\n"
          ]
        }
      ]
    },
    {
      "cell_type": "code",
      "source": [
        "# slicing\n",
        "\n",
        "s = \"bangalore\"\n",
        "\n",
        "print(s[::])"
      ],
      "metadata": {
        "colab": {
          "base_uri": "https://localhost:8080/"
        },
        "id": "5L7WSZC22Yo5",
        "outputId": "b98175f1-36e5-4f6d-b3d6-72048f96bfd7"
      },
      "execution_count": null,
      "outputs": [
        {
          "output_type": "stream",
          "name": "stdout",
          "text": [
            "bangalore\n"
          ]
        }
      ]
    },
    {
      "cell_type": "code",
      "source": [
        "# negative slicing\n",
        "\n",
        "s = \"bangalore\"\n",
        "\n",
        "print(s[-1:-4:-1])\n",
        "print(s[-1:-8:-2])\n",
        "print(s[-2:-6:2])\n",
        "\n",
        "print(s[-1: :-1])"
      ],
      "metadata": {
        "colab": {
          "base_uri": "https://localhost:8080/"
        },
        "id": "rusYStc-JroV",
        "outputId": "d8ef07fc-17f8-4f2b-ab01-83d727b2b922"
      },
      "execution_count": null,
      "outputs": [
        {
          "output_type": "stream",
          "name": "stdout",
          "text": [
            "ero\n",
            "eoan\n",
            "\n",
            "erolagnab\n"
          ]
        }
      ]
    },
    {
      "cell_type": "code",
      "source": [
        "#global variable\n",
        "\n",
        "n=10\n",
        "\n",
        "def fun():\n",
        "  global n\n",
        "  n=n+1\n",
        "  print(n)\n",
        "\n",
        "def test():\n",
        "  global n\n",
        "  n=n+1\n",
        "  print(n)\n",
        "\n",
        "fun()\n",
        "test()\n",
        "print(n)"
      ],
      "metadata": {
        "colab": {
          "base_uri": "https://localhost:8080/"
        },
        "id": "q33V_lj6G1fP",
        "outputId": "5a4a5d78-ac59-420a-abcc-69d870c79379"
      },
      "execution_count": null,
      "outputs": [
        {
          "output_type": "stream",
          "name": "stdout",
          "text": [
            "11\n",
            "12\n",
            "12\n"
          ]
        }
      ]
    },
    {
      "cell_type": "code",
      "source": [
        "def multiplier_factory(factor):\n",
        "\n",
        "  def multiplier(number):\n",
        "\n",
        "    return number * factor\n",
        "\n",
        "  # Return the nested function\n",
        "  return multiplier  # returning the inner function\n",
        "\n",
        "# Create a function that multiplies by 5\n",
        "multiply_by_5 = multiplier_factory(5)\n",
        "\n",
        "# Create a function that multiplies by 10\n",
        "multiply_by_10 = multiplier_factory(10)\n",
        "\n",
        "# Use the created functions\n",
        "result1 = multiply_by_5(8)\n",
        "result2 = multiply_by_10(4)\n",
        "\n",
        "print(f\"8 multiplied by 5 is: {result1}\")  # Output: 8 multiplied by 5 is: 40\n",
        "print(f\"4 multiplied by 10 is: {result2}\") # Output: 4 multiplied by 10 is: 40"
      ],
      "metadata": {
        "colab": {
          "base_uri": "https://localhost:8080/"
        },
        "id": "TzDHBzKgKTmj",
        "outputId": "69528b1f-bf7b-4a23-fe8f-696d12cfd86f"
      },
      "execution_count": null,
      "outputs": [
        {
          "output_type": "stream",
          "name": "stdout",
          "text": [
            "8 multiplied by 5 is: 40\n",
            "4 multiplied by 10 is: 40\n"
          ]
        }
      ]
    },
    {
      "cell_type": "code",
      "source": [
        "#default argument\n",
        "def student(name, age, m1, m2, m3,college =\"STET\"):\n",
        "  print(name, age, m1, m2, m3, college)\n",
        "\n",
        "student(\"kasi\", 35, 100, 90, 80)\n"
      ],
      "metadata": {
        "colab": {
          "base_uri": "https://localhost:8080/"
        },
        "id": "5QRLgcVIQyfM",
        "outputId": "7fe47786-626c-4147-a641-5858813ac525"
      },
      "execution_count": null,
      "outputs": [
        {
          "output_type": "stream",
          "name": "stdout",
          "text": [
            "kasi 35 100 90 80 STET\n"
          ]
        }
      ]
    },
    {
      "cell_type": "code",
      "source": [
        "#variable length argument\n",
        "def fun(*a):\n",
        "  print(a)\n",
        "  print(type(a))\n",
        "\n",
        "fun(1,2)\n",
        "fun(1,2,3)\n",
        "fun(1,2,3,4)"
      ],
      "metadata": {
        "colab": {
          "base_uri": "https://localhost:8080/"
        },
        "id": "ZIWyK_CyTpJ6",
        "outputId": "9e4534dd-0c3d-4778-d082-a6d543a1332d"
      },
      "execution_count": null,
      "outputs": [
        {
          "output_type": "stream",
          "name": "stdout",
          "text": [
            "(1, 2)\n",
            "<class 'tuple'>\n",
            "(1, 2, 3)\n",
            "<class 'tuple'>\n",
            "(1, 2, 3, 4)\n",
            "<class 'tuple'>\n"
          ]
        }
      ]
    },
    {
      "cell_type": "code",
      "source": [
        "#variable length position arguments\n",
        "def sum(*a):\n",
        "  #print(a)\n",
        "  s=0\n",
        "  for i in a:\n",
        "    s=s+i\n",
        "  print(s)\n",
        "\n",
        "sum(1,2) # values are packed as tuple\n",
        "sum(1,2,3)\n",
        "sum(1,2,3,4)"
      ],
      "metadata": {
        "colab": {
          "base_uri": "https://localhost:8080/"
        },
        "id": "V_qUyL70UMtI",
        "outputId": "8b58e38a-48e8-48f2-8260-cfdc133e49e7"
      },
      "execution_count": null,
      "outputs": [
        {
          "output_type": "stream",
          "name": "stdout",
          "text": [
            "3\n",
            "6\n",
            "10\n"
          ]
        }
      ]
    },
    {
      "cell_type": "code",
      "source": [
        "#variable length keywords argument\n",
        "def sum(**a):\n",
        "  #print(a)\n",
        "  s=0\n",
        "  for i in a:\n",
        "    s=s+i\n",
        "  print(s)\n",
        "\n",
        "sum(a=1,b=2) # values are packed as tuple\n",
        "sum(a=1,b=2,c=3)\n",
        "sum(a=1,b=2,c=3,d=4)"
      ],
      "metadata": {
        "colab": {
          "base_uri": "https://localhost:8080/",
          "height": 332
        },
        "id": "J98sePAYTYID",
        "outputId": "1d0c2b28-a634-4da5-a06a-b3d64dda2f41"
      },
      "execution_count": null,
      "outputs": [
        {
          "output_type": "error",
          "ename": "TypeError",
          "evalue": "unsupported operand type(s) for +: 'int' and 'str'",
          "traceback": [
            "\u001b[0;31m---------------------------------------------------------------------------\u001b[0m",
            "\u001b[0;31mTypeError\u001b[0m                                 Traceback (most recent call last)",
            "\u001b[0;32m<ipython-input-3-db4c26db2cb2>\u001b[0m in \u001b[0;36m<cell line: 0>\u001b[0;34m()\u001b[0m\n\u001b[1;32m      7\u001b[0m   \u001b[0mprint\u001b[0m\u001b[0;34m(\u001b[0m\u001b[0ms\u001b[0m\u001b[0;34m)\u001b[0m\u001b[0;34m\u001b[0m\u001b[0;34m\u001b[0m\u001b[0m\n\u001b[1;32m      8\u001b[0m \u001b[0;34m\u001b[0m\u001b[0m\n\u001b[0;32m----> 9\u001b[0;31m \u001b[0msum\u001b[0m\u001b[0;34m(\u001b[0m\u001b[0ma\u001b[0m\u001b[0;34m=\u001b[0m\u001b[0;36m1\u001b[0m\u001b[0;34m,\u001b[0m\u001b[0mb\u001b[0m\u001b[0;34m=\u001b[0m\u001b[0;36m2\u001b[0m\u001b[0;34m)\u001b[0m \u001b[0;31m# values are packed as tuple\u001b[0m\u001b[0;34m\u001b[0m\u001b[0;34m\u001b[0m\u001b[0m\n\u001b[0m\u001b[1;32m     10\u001b[0m \u001b[0msum\u001b[0m\u001b[0;34m(\u001b[0m\u001b[0ma\u001b[0m\u001b[0;34m=\u001b[0m\u001b[0;36m1\u001b[0m\u001b[0;34m,\u001b[0m\u001b[0mb\u001b[0m\u001b[0;34m=\u001b[0m\u001b[0;36m2\u001b[0m\u001b[0;34m,\u001b[0m\u001b[0mc\u001b[0m\u001b[0;34m=\u001b[0m\u001b[0;36m3\u001b[0m\u001b[0;34m)\u001b[0m\u001b[0;34m\u001b[0m\u001b[0;34m\u001b[0m\u001b[0m\n\u001b[1;32m     11\u001b[0m \u001b[0msum\u001b[0m\u001b[0;34m(\u001b[0m\u001b[0ma\u001b[0m\u001b[0;34m=\u001b[0m\u001b[0;36m1\u001b[0m\u001b[0;34m,\u001b[0m\u001b[0mb\u001b[0m\u001b[0;34m=\u001b[0m\u001b[0;36m2\u001b[0m\u001b[0;34m,\u001b[0m\u001b[0mc\u001b[0m\u001b[0;34m=\u001b[0m\u001b[0;36m3\u001b[0m\u001b[0;34m,\u001b[0m\u001b[0md\u001b[0m\u001b[0;34m=\u001b[0m\u001b[0;36m4\u001b[0m\u001b[0;34m)\u001b[0m\u001b[0;34m\u001b[0m\u001b[0;34m\u001b[0m\u001b[0m\n",
            "\u001b[0;32m<ipython-input-3-db4c26db2cb2>\u001b[0m in \u001b[0;36msum\u001b[0;34m(**a)\u001b[0m\n\u001b[1;32m      4\u001b[0m   \u001b[0ms\u001b[0m\u001b[0;34m=\u001b[0m\u001b[0;36m0\u001b[0m\u001b[0;34m\u001b[0m\u001b[0;34m\u001b[0m\u001b[0m\n\u001b[1;32m      5\u001b[0m   \u001b[0;32mfor\u001b[0m \u001b[0mi\u001b[0m \u001b[0;32min\u001b[0m \u001b[0ma\u001b[0m\u001b[0;34m:\u001b[0m\u001b[0;34m\u001b[0m\u001b[0;34m\u001b[0m\u001b[0m\n\u001b[0;32m----> 6\u001b[0;31m     \u001b[0ms\u001b[0m\u001b[0;34m=\u001b[0m\u001b[0ms\u001b[0m\u001b[0;34m+\u001b[0m\u001b[0mi\u001b[0m\u001b[0;34m\u001b[0m\u001b[0;34m\u001b[0m\u001b[0m\n\u001b[0m\u001b[1;32m      7\u001b[0m   \u001b[0mprint\u001b[0m\u001b[0;34m(\u001b[0m\u001b[0ms\u001b[0m\u001b[0;34m)\u001b[0m\u001b[0;34m\u001b[0m\u001b[0;34m\u001b[0m\u001b[0m\n\u001b[1;32m      8\u001b[0m \u001b[0;34m\u001b[0m\u001b[0m\n",
            "\u001b[0;31mTypeError\u001b[0m: unsupported operand type(s) for +: 'int' and 'str'"
          ]
        }
      ]
    },
    {
      "cell_type": "code",
      "source": [
        "# varible length positional args and variable length keyword args\n",
        "\n",
        "def add(*num, **nums ):\n",
        "  print(sum(num))\n",
        "  print(sum(nums.values()))\n",
        "\n",
        "add(10,20,30,40,n1=100,n2=200,n3=300)"
      ],
      "metadata": {
        "colab": {
          "base_uri": "https://localhost:8080/",
          "height": 297
        },
        "id": "ET0gpGB1TrmA",
        "outputId": "bb3fe5a0-49af-49ae-8b15-1ea528804824"
      },
      "execution_count": null,
      "outputs": [
        {
          "output_type": "error",
          "ename": "TypeError",
          "evalue": "sum() takes 0 positional arguments but 1 was given",
          "traceback": [
            "\u001b[0;31m---------------------------------------------------------------------------\u001b[0m",
            "\u001b[0;31mTypeError\u001b[0m                                 Traceback (most recent call last)",
            "\u001b[0;32m<ipython-input-14-f6c99b8158da>\u001b[0m in \u001b[0;36m<cell line: 0>\u001b[0;34m()\u001b[0m\n\u001b[1;32m      5\u001b[0m   \u001b[0mprint\u001b[0m\u001b[0;34m(\u001b[0m\u001b[0msum\u001b[0m\u001b[0;34m(\u001b[0m\u001b[0mnums\u001b[0m\u001b[0;34m.\u001b[0m\u001b[0mvalues\u001b[0m\u001b[0;34m(\u001b[0m\u001b[0;34m)\u001b[0m\u001b[0;34m)\u001b[0m\u001b[0;34m)\u001b[0m\u001b[0;34m\u001b[0m\u001b[0;34m\u001b[0m\u001b[0m\n\u001b[1;32m      6\u001b[0m \u001b[0;34m\u001b[0m\u001b[0m\n\u001b[0;32m----> 7\u001b[0;31m \u001b[0madd\u001b[0m\u001b[0;34m(\u001b[0m\u001b[0;36m10\u001b[0m\u001b[0;34m,\u001b[0m\u001b[0;36m20\u001b[0m\u001b[0;34m,\u001b[0m\u001b[0;36m30\u001b[0m\u001b[0;34m,\u001b[0m\u001b[0;36m40\u001b[0m\u001b[0;34m,\u001b[0m\u001b[0mn1\u001b[0m\u001b[0;34m=\u001b[0m\u001b[0;36m100\u001b[0m\u001b[0;34m,\u001b[0m\u001b[0mn2\u001b[0m\u001b[0;34m=\u001b[0m\u001b[0;36m200\u001b[0m\u001b[0;34m,\u001b[0m\u001b[0mn3\u001b[0m\u001b[0;34m=\u001b[0m\u001b[0;36m300\u001b[0m\u001b[0;34m)\u001b[0m\u001b[0;34m\u001b[0m\u001b[0;34m\u001b[0m\u001b[0m\n\u001b[0m",
            "\u001b[0;32m<ipython-input-14-f6c99b8158da>\u001b[0m in \u001b[0;36madd\u001b[0;34m(*num, **nums)\u001b[0m\n\u001b[1;32m      2\u001b[0m \u001b[0;34m\u001b[0m\u001b[0m\n\u001b[1;32m      3\u001b[0m \u001b[0;32mdef\u001b[0m \u001b[0madd\u001b[0m\u001b[0;34m(\u001b[0m\u001b[0;34m*\u001b[0m\u001b[0mnum\u001b[0m\u001b[0;34m,\u001b[0m \u001b[0;34m**\u001b[0m\u001b[0mnums\u001b[0m \u001b[0;34m)\u001b[0m\u001b[0;34m:\u001b[0m\u001b[0;34m\u001b[0m\u001b[0;34m\u001b[0m\u001b[0m\n\u001b[0;32m----> 4\u001b[0;31m   \u001b[0mprint\u001b[0m\u001b[0;34m(\u001b[0m\u001b[0msum\u001b[0m\u001b[0;34m(\u001b[0m\u001b[0mnum\u001b[0m\u001b[0;34m)\u001b[0m\u001b[0;34m)\u001b[0m\u001b[0;34m\u001b[0m\u001b[0;34m\u001b[0m\u001b[0m\n\u001b[0m\u001b[1;32m      5\u001b[0m   \u001b[0mprint\u001b[0m\u001b[0;34m(\u001b[0m\u001b[0msum\u001b[0m\u001b[0;34m(\u001b[0m\u001b[0mnums\u001b[0m\u001b[0;34m.\u001b[0m\u001b[0mvalues\u001b[0m\u001b[0;34m(\u001b[0m\u001b[0;34m)\u001b[0m\u001b[0;34m)\u001b[0m\u001b[0;34m)\u001b[0m\u001b[0;34m\u001b[0m\u001b[0;34m\u001b[0m\u001b[0m\n\u001b[1;32m      6\u001b[0m \u001b[0;34m\u001b[0m\u001b[0m\n",
            "\u001b[0;31mTypeError\u001b[0m: sum() takes 0 positional arguments but 1 was given"
          ]
        }
      ]
    },
    {
      "cell_type": "code",
      "source": [
        "#lambda function return single expression\n",
        "var = lambda x,y,z:x+y+z\n",
        "print(var(10,20,30))"
      ],
      "metadata": {
        "colab": {
          "base_uri": "https://localhost:8080/"
        },
        "id": "B8TzCyBacGZa",
        "outputId": "2e0f1a5b-ce00-4f7e-c67f-14098bc5c3d0"
      },
      "execution_count": null,
      "outputs": [
        {
          "output_type": "stream",
          "name": "stdout",
          "text": [
            "60\n"
          ]
        }
      ]
    },
    {
      "cell_type": "code",
      "source": [
        "add=lambda x,y : (x+y,x-y)\n",
        "print(add(20,10))\n",
        "print(type(add))"
      ],
      "metadata": {
        "colab": {
          "base_uri": "https://localhost:8080/"
        },
        "id": "KVwzX8_Ucn8z",
        "outputId": "0e9b9da8-25f6-4ed5-b185-fa80cc73e586"
      },
      "execution_count": null,
      "outputs": [
        {
          "output_type": "stream",
          "name": "stdout",
          "text": [
            "(30, 10)\n",
            "<class 'function'>\n"
          ]
        }
      ]
    },
    {
      "cell_type": "code",
      "source": [
        "\n",
        "def student(*a,m1=10,m2=20,m3=30,College = \"STET\"):\n",
        "  print(1,2,3,m1,m2,m3,College)\n",
        "\n",
        "student(1,2,3)\n"
      ],
      "metadata": {
        "colab": {
          "base_uri": "https://localhost:8080/"
        },
        "id": "GCpHdKWpWmK_",
        "outputId": "8f160950-3fc4-4584-85d3-f32e348e6ae5"
      },
      "execution_count": null,
      "outputs": [
        {
          "output_type": "stream",
          "name": "stdout",
          "text": [
            "1 2 3 10 20 30 STET\n"
          ]
        }
      ]
    },
    {
      "cell_type": "code",
      "source": [
        "#pos arguments --> keyword arguments --> Default args\n",
        "def student(name, age, m1, m2, m3, college =\"STET\"):\n",
        "  print(name, age, m1, m2, m3, college)\n",
        "\n",
        "student(\"kasi\", 35, 100, 90, 80)"
      ],
      "metadata": {
        "colab": {
          "base_uri": "https://localhost:8080/"
        },
        "id": "Ukt_fOdbRxoq",
        "outputId": "b1ae7f69-7565-41f1-ac9b-5272043a2262"
      },
      "execution_count": null,
      "outputs": [
        {
          "output_type": "stream",
          "name": "stdout",
          "text": [
            "kasi 35 100 90 80 STET\n"
          ]
        }
      ]
    },
    {
      "cell_type": "code",
      "source": [
        "#Class and objects\n",
        "\n",
        "class Calculator:\n",
        "  n1=0\n",
        "  n2=0\n",
        "  res=0\n",
        "\n",
        "  def _init_(self,n1,n2):\n",
        "    self.n1=0\n",
        "    self.n2=0\n",
        "    self.res=0\n",
        "\n",
        "  def add(self,n1,n2):\n",
        "    pass\n",
        "\n",
        "  def sub(self,n1,n2):\n",
        "    pass\n",
        "\n",
        "  def mul(self,n1,n2):\n",
        "    pass\n",
        "\n",
        "  def div(self,n1,n2):\n",
        "    pass\n",
        "\n",
        "  obj1=Calculator(10,20) #obj1 creation\n",
        "  obj1=Calculator(100,200) #obj1 creation\n",
        "\n"
      ],
      "metadata": {
        "colab": {
          "base_uri": "https://localhost:8080/",
          "height": 332
        },
        "id": "rrlq6exVktLr",
        "outputId": "6e90e931-107c-40b4-95c6-e1096dc03bd2"
      },
      "execution_count": null,
      "outputs": [
        {
          "output_type": "error",
          "ename": "NameError",
          "evalue": "name 'Calculator' is not defined",
          "traceback": [
            "\u001b[0;31m---------------------------------------------------------------------------\u001b[0m",
            "\u001b[0;31mNameError\u001b[0m                                 Traceback (most recent call last)",
            "\u001b[0;32m<ipython-input-18-f4001f71521e>\u001b[0m in \u001b[0;36m<cell line: 0>\u001b[0;34m()\u001b[0m\n\u001b[1;32m      1\u001b[0m \u001b[0;31m#Class and objects\u001b[0m\u001b[0;34m\u001b[0m\u001b[0;34m\u001b[0m\u001b[0m\n\u001b[1;32m      2\u001b[0m \u001b[0;34m\u001b[0m\u001b[0m\n\u001b[0;32m----> 3\u001b[0;31m \u001b[0;32mclass\u001b[0m \u001b[0mCalculator\u001b[0m\u001b[0;34m:\u001b[0m\u001b[0;34m\u001b[0m\u001b[0;34m\u001b[0m\u001b[0m\n\u001b[0m\u001b[1;32m      4\u001b[0m   \u001b[0mn1\u001b[0m\u001b[0;34m=\u001b[0m\u001b[0;36m0\u001b[0m\u001b[0;34m\u001b[0m\u001b[0;34m\u001b[0m\u001b[0m\n\u001b[1;32m      5\u001b[0m   \u001b[0mn2\u001b[0m\u001b[0;34m=\u001b[0m\u001b[0;36m0\u001b[0m\u001b[0;34m\u001b[0m\u001b[0;34m\u001b[0m\u001b[0m\n",
            "\u001b[0;32m<ipython-input-18-f4001f71521e>\u001b[0m in \u001b[0;36mCalculator\u001b[0;34m()\u001b[0m\n\u001b[1;32m     23\u001b[0m     \u001b[0;32mpass\u001b[0m\u001b[0;34m\u001b[0m\u001b[0;34m\u001b[0m\u001b[0m\n\u001b[1;32m     24\u001b[0m \u001b[0;34m\u001b[0m\u001b[0m\n\u001b[0;32m---> 25\u001b[0;31m   \u001b[0mobj1\u001b[0m\u001b[0;34m=\u001b[0m\u001b[0mCalculator\u001b[0m\u001b[0;34m(\u001b[0m\u001b[0;36m10\u001b[0m\u001b[0;34m,\u001b[0m\u001b[0;36m20\u001b[0m\u001b[0;34m)\u001b[0m \u001b[0;31m#obj1 creation\u001b[0m\u001b[0;34m\u001b[0m\u001b[0;34m\u001b[0m\u001b[0m\n\u001b[0m\u001b[1;32m     26\u001b[0m   \u001b[0mobj1\u001b[0m\u001b[0;34m=\u001b[0m\u001b[0mCalculator\u001b[0m\u001b[0;34m(\u001b[0m\u001b[0;36m100\u001b[0m\u001b[0;34m,\u001b[0m\u001b[0;36m200\u001b[0m\u001b[0;34m)\u001b[0m \u001b[0;31m#obj1 creation\u001b[0m\u001b[0;34m\u001b[0m\u001b[0;34m\u001b[0m\u001b[0m\n\u001b[1;32m     27\u001b[0m \u001b[0;34m\u001b[0m\u001b[0m\n",
            "\u001b[0;31mNameError\u001b[0m: name 'Calculator' is not defined"
          ]
        }
      ]
    }
  ]
}